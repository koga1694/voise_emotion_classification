{
 "cells": [
  {
   "cell_type": "code",
   "execution_count": 26,
   "metadata": {},
   "outputs": [],
   "source": [
    "import numpy as np\n",
    "import librosa\n",
    "from scipy.io import wavfile\n",
    "from glob import glob\n",
    "\n",
    "def noise_delete(input_path, output_path): # folder path / ex) 'C:/workplace/dacon/voice/test'\n",
    "    file_path = glob(input_path + '/*')\n",
    "    for i, file in enumerate(file_path):\n",
    "        y, sr = librosa.load(file, sr=None)\n",
    "        # 스펙트럼 분석\n",
    "        D = librosa.stft(y)\n",
    "\n",
    "        # 스펙트럼 크기와 위상 정보 분리\n",
    "        magnitude = np.abs(D)\n",
    "        phase = np.angle(D)\n",
    "\n",
    "        # 잡음 스펙트럼 추정\n",
    "        noise_mag = np.median(magnitude, axis=1)\n",
    "\n",
    "        # 잡음 스펙트럼을 사용하여 잡음 제거\n",
    "        clean_mag = np.maximum(magnitude - 2 * noise_mag[:, np.newaxis], 0)\n",
    "\n",
    "        # 원본 스펙트럼과 위상 정보를 결합하여 복구\n",
    "        clean_D = clean_mag * np.exp(1j * phase)\n",
    "\n",
    "        # 시간 도메인으로 변환\n",
    "        clean_audio = librosa.istft(clean_D)\n",
    "\n",
    "        # 잡음 제거된 음성 파일 저장\n",
    "        output_file = output_path + f'/{i}.wav'\n",
    "        wavfile.write(output_file, sr, clean_audio)\n",
    "        \n",
    "        \n",
    "        \n",
    "noise_delete(r'C:/workplace/dacon/voice/test', r'C:/workplace/dacon/voice/delnoise_test')\n"
   ]
  }
 ],
 "metadata": {
  "kernelspec": {
   "display_name": "gibo",
   "language": "python",
   "name": "python3"
  },
  "language_info": {
   "codemirror_mode": {
    "name": "ipython",
    "version": 3
   },
   "file_extension": ".py",
   "mimetype": "text/x-python",
   "name": "python",
   "nbconvert_exporter": "python",
   "pygments_lexer": "ipython3",
   "version": "3.8.15"
  },
  "orig_nbformat": 4
 },
 "nbformat": 4,
 "nbformat_minor": 2
}
